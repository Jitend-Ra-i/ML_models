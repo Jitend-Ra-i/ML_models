{
 "cells": [
  {
   "cell_type": "code",
   "execution_count": 18,
   "id": "4b107aae",
   "metadata": {},
   "outputs": [
    {
     "ename": "ModuleNotFoundError",
     "evalue": "No module named 'notify_run'",
     "output_type": "error",
     "traceback": [
      "\u001b[0;31m---------------------------------------------------------------------------\u001b[0m",
      "\u001b[0;31mModuleNotFoundError\u001b[0m                       Traceback (most recent call last)",
      "\u001b[0;32m<ipython-input-18-306af52f8010>\u001b[0m in \u001b[0;36m<module>\u001b[0;34m\u001b[0m\n\u001b[0;32m----> 1\u001b[0;31m \u001b[0;32mfrom\u001b[0m \u001b[0mnotify_run\u001b[0m \u001b[0;32mimport\u001b[0m \u001b[0mNotify\u001b[0m     \u001b[0;31m#pip install notify_run\u001b[0m\u001b[0;34m\u001b[0m\u001b[0;34m\u001b[0m\u001b[0m\n\u001b[0m\u001b[1;32m      2\u001b[0m \u001b[0;32mimport\u001b[0m \u001b[0mrandom\u001b[0m\u001b[0;34m\u001b[0m\u001b[0;34m\u001b[0m\u001b[0m\n\u001b[1;32m      3\u001b[0m \u001b[0;32mimport\u001b[0m \u001b[0mos\u001b[0m\u001b[0;34m\u001b[0m\u001b[0;34m\u001b[0m\u001b[0m\n\u001b[1;32m      4\u001b[0m \u001b[0;34m\u001b[0m\u001b[0m\n\u001b[1;32m      5\u001b[0m \u001b[0mNotif\u001b[0m \u001b[0;34m=\u001b[0m \u001b[0mNotify\u001b[0m\u001b[0;34m(\u001b[0m\u001b[0;34m)\u001b[0m\u001b[0;34m\u001b[0m\u001b[0;34m\u001b[0m\u001b[0m\n",
      "\u001b[0;31mModuleNotFoundError\u001b[0m: No module named 'notify_run'"
     ]
    }
   ],
   "source": [
    "    from notify_run import Notify     #pip install notify_run \n",
    "    import random \n",
    "    import os \n",
    "     \n",
    "    Notif = Notify() \n",
    "     \n",
    "    OTP = random.randint(10000,99999) #Generate a five digit random number. \n",
    "    print(\"This file contains deadly photo\\n\\nTo open this file, you need to verify it's you.\\n\\nA verification OTP will be sent to your phone\") \n",
    "    notification = (\"Your OTP is: \"+str(OTP)) \n",
    "    Notif.send(notification) \n",
    "    Entry = int(input(\"Enter OTP to access this file: \")) \n",
    "    if Entry == OTP: \n",
    "        print('ooo')\n",
    "    else: \n",
    "        print(\"Wrong OTP\") "
   ]
  },
  {
   "cell_type": "code",
   "execution_count": null,
   "id": "baf994c8",
   "metadata": {},
   "outputs": [],
   "source": []
  },
  {
   "cell_type": "code",
   "execution_count": null,
   "id": "60a03632",
   "metadata": {},
   "outputs": [],
   "source": []
  },
  {
   "cell_type": "code",
   "execution_count": null,
   "id": "b7534338",
   "metadata": {},
   "outputs": [],
   "source": []
  }
 ],
 "metadata": {
  "kernelspec": {
   "display_name": "Python 3",
   "language": "python",
   "name": "python3"
  },
  "language_info": {
   "codemirror_mode": {
    "name": "ipython",
    "version": 3
   },
   "file_extension": ".py",
   "mimetype": "text/x-python",
   "name": "python",
   "nbconvert_exporter": "python",
   "pygments_lexer": "ipython3",
   "version": "3.8.5"
  }
 },
 "nbformat": 4,
 "nbformat_minor": 5
}
