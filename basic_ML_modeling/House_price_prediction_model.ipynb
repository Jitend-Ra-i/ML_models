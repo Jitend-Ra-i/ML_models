{
 "cells": [
  {
   "cell_type": "code",
   "execution_count": 74,
   "id": "e795c531",
   "metadata": {},
   "outputs": [],
   "source": [
    "import pandas as pd\n",
    "home_data=pd.read_csv('/home/jitendra/Desktop/ml/train.csv')\n",
    "# home_data.columns"
   ]
  },
  {
   "cell_type": "code",
   "execution_count": 75,
   "id": "14bdae52",
   "metadata": {},
   "outputs": [],
   "source": [
    "features=['LotArea','YearBuilt','1stFlrSF','2ndFlrSF','FullBath','BedroomAbvGr','TotRmsAbvGrd']"
   ]
  },
  {
   "cell_type": "code",
   "execution_count": 76,
   "id": "cb176bcf",
   "metadata": {},
   "outputs": [],
   "source": [
    "X=home_data[features]\n",
    "# X.head()"
   ]
  },
  {
   "cell_type": "code",
   "execution_count": 77,
   "id": "b59ca9be",
   "metadata": {},
   "outputs": [],
   "source": [
    "y=home_data.SalePrice"
   ]
  },
  {
   "cell_type": "code",
   "execution_count": 78,
   "id": "7c5b21b6",
   "metadata": {},
   "outputs": [],
   "source": [
    "from sklearn.tree import DecisionTreeRegressor\n",
    "model=DecisionTreeRegressor(random_state=1)\n",
    "model.fit(X,y)\n",
    "predicted_price=model.predict(X)"
   ]
  },
  {
   "cell_type": "code",
   "execution_count": 79,
   "id": "31bbcebf",
   "metadata": {},
   "outputs": [
    {
     "data": {
      "text/plain": [
       "0    208500\n",
       "1    181500\n",
       "2    223500\n",
       "3    140000\n",
       "4    250000\n",
       "Name: SalePrice, dtype: int64"
      ]
     },
     "execution_count": 79,
     "metadata": {},
     "output_type": "execute_result"
    }
   ],
   "source": [
    "y.head()"
   ]
  },
  {
   "cell_type": "code",
   "execution_count": 80,
   "id": "32a4084f",
   "metadata": {},
   "outputs": [
    {
     "data": {
      "text/plain": [
       "array([208500., 181500., 223500., ..., 266500., 142125., 147500.])"
      ]
     },
     "execution_count": 80,
     "metadata": {},
     "output_type": "execute_result"
    }
   ],
   "source": [
    "predicted_price"
   ]
  },
  {
   "cell_type": "markdown",
   "id": "9bcc5698",
   "metadata": {},
   "source": [
    "# reading the test data using test.csv"
   ]
  },
  {
   "cell_type": "code",
   "execution_count": 81,
   "id": "2fe00df7",
   "metadata": {},
   "outputs": [],
   "source": [
    "test_data=pd.read_csv('/home/jitendra/Desktop/ml/test.csv')\n",
    "# test_data.head()"
   ]
  },
  {
   "cell_type": "code",
   "execution_count": 82,
   "id": "2fba0653",
   "metadata": {},
   "outputs": [],
   "source": [
    "test_X=test_data[features]"
   ]
  },
  {
   "cell_type": "code",
   "execution_count": 83,
   "id": "0b0934bd",
   "metadata": {},
   "outputs": [],
   "source": [
    "predicted_price=model.predict(test_X)"
   ]
  },
  {
   "cell_type": "code",
   "execution_count": 84,
   "id": "702cb3a9",
   "metadata": {},
   "outputs": [
    {
     "name": "stdout",
     "output_type": "stream",
     "text": [
      "[ 94750. 137500. 173000. ... 157900.  93500. 225000.]\n"
     ]
    }
   ],
   "source": [
    "print(predicted_price)"
   ]
  },
  {
   "cell_type": "markdown",
   "id": "eb061842",
   "metadata": {},
   "source": [
    "# find mean absolute error "
   ]
  },
  {
   "cell_type": "code",
   "execution_count": 85,
   "id": "8d4fd1fc",
   "metadata": {},
   "outputs": [],
   "source": [
    "from sklearn.metrics import mean_absolute_error\n"
   ]
  },
  {
   "cell_type": "code",
   "execution_count": 86,
   "id": "5b3543f9",
   "metadata": {},
   "outputs": [],
   "source": [
    "# y_test=y[:-1]"
   ]
  },
  {
   "cell_type": "code",
   "execution_count": 90,
   "id": "fad8431b",
   "metadata": {},
   "outputs": [],
   "source": [
    "mae=mean_absolute_error(y[:-1],predicted_price)"
   ]
  },
  {
   "cell_type": "code",
   "execution_count": 91,
   "id": "d36533eb",
   "metadata": {},
   "outputs": [
    {
     "name": "stdout",
     "output_type": "stream",
     "text": [
      "81022.15672835275\n"
     ]
    }
   ],
   "source": [
    "print(mae)"
   ]
  },
  {
   "cell_type": "markdown",
   "id": "12ec10e9",
   "metadata": {},
   "source": [
    "# usig random forest regressor"
   ]
  },
  {
   "cell_type": "code",
   "execution_count": 92,
   "id": "61565091",
   "metadata": {},
   "outputs": [],
   "source": [
    "from sklearn.ensemble import RandomForestRegressor"
   ]
  },
  {
   "cell_type": "code",
   "execution_count": 98,
   "id": "99713477",
   "metadata": {},
   "outputs": [],
   "source": [
    "model=RandomForestRegressor(random_state=1)\n",
    "model.fit(X,y)\n",
    "prediction_new=model.predict(test_X)"
   ]
  },
  {
   "cell_type": "code",
   "execution_count": 99,
   "id": "7e0c7914",
   "metadata": {},
   "outputs": [
    {
     "name": "stdout",
     "output_type": "stream",
     "text": [
      "[122656.58 156789.   182959.   ... 151283.01 127878.   225959.8 ]\n"
     ]
    }
   ],
   "source": [
    "print(prediction_new)"
   ]
  },
  {
   "cell_type": "code",
   "execution_count": 100,
   "id": "b6012758",
   "metadata": {},
   "outputs": [],
   "source": [
    "rf_mae=mean_absolute_error(y[:-1],prediction_new)"
   ]
  },
  {
   "cell_type": "code",
   "execution_count": 101,
   "id": "68756ac5",
   "metadata": {},
   "outputs": [
    {
     "name": "stdout",
     "output_type": "stream",
     "text": [
      "77731.11632458631\n"
     ]
    }
   ],
   "source": [
    "print(rf_mae)"
   ]
  },
  {
   "cell_type": "code",
   "execution_count": null,
   "id": "64066c47",
   "metadata": {},
   "outputs": [],
   "source": [
    "\n"
   ]
  }
 ],
 "metadata": {
  "kernelspec": {
   "display_name": "Python 3",
   "language": "python",
   "name": "python3"
  },
  "language_info": {
   "codemirror_mode": {
    "name": "ipython",
    "version": 3
   },
   "file_extension": ".py",
   "mimetype": "text/x-python",
   "name": "python",
   "nbconvert_exporter": "python",
   "pygments_lexer": "ipython3",
   "version": "3.8.5"
  }
 },
 "nbformat": 4,
 "nbformat_minor": 5
}
